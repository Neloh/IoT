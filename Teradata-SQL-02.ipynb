{
 "cells": [
  {
   "cell_type": "markdown",
   "metadata": {},
   "source": [
    "# Teradata - Python: Update the database"
   ]
  },
  {
   "cell_type": "markdown",
   "metadata": {},
   "source": [
    "## Connect to Teradata"
   ]
  },
  {
   "cell_type": "code",
   "execution_count": 1,
   "metadata": {},
   "outputs": [],
   "source": [
    "import teradata\n",
    "import pandas as pd\n",
    "\n",
    "#Define application\n",
    "udaExec = teradata.UdaExec (appName=\"TestAPP\", version=\"1.0\",\n",
    "        logConsole=False)\n",
    "\n",
    "#Open ODBC connection (the teradata dsn has to be setup in the local ODBC Administrator)\n",
    "session = udaExec.connect(method=\"odbc\", dsn=\"teradata\",\n",
    "        username=\"dbc\", password=\"dbc\")"
   ]
  },
  {
   "cell_type": "markdown",
   "metadata": {},
   "source": [
    "## Call stored procedure"
   ]
  },
  {
   "cell_type": "markdown",
   "metadata": {
    "collapsed": true
   },
   "source": [
    "#Call stored procedure\n",
    "```temperature = 6\n",
    "humidity = 6\n",
    "proc_string = \"CALL tdata_db_2.Weather_Log_Create({0}, {1})\".format(temperature, humidity)\n",
    "\n",
    "cursor =  session.cursor()\n",
    "cursor.execute(proc_string);```\n"
   ]
  },
  {
   "cell_type": "code",
   "execution_count": 2,
   "metadata": {},
   "outputs": [
    {
     "data": {
      "text/html": [
       "<div>\n",
       "<style scoped>\n",
       "    .dataframe tbody tr th:only-of-type {\n",
       "        vertical-align: middle;\n",
       "    }\n",
       "\n",
       "    .dataframe tbody tr th {\n",
       "        vertical-align: top;\n",
       "    }\n",
       "\n",
       "    .dataframe thead th {\n",
       "        text-align: right;\n",
       "    }\n",
       "</style>\n",
       "<table border=\"1\" class=\"dataframe\">\n",
       "  <thead>\n",
       "    <tr style=\"text-align: right;\">\n",
       "      <th></th>\n",
       "      <th>Log_Id</th>\n",
       "      <th>Date_Time</th>\n",
       "      <th>Temperature</th>\n",
       "      <th>Humidity</th>\n",
       "      <th>Image_Blob</th>\n",
       "      <th>Cloud_Type</th>\n",
       "    </tr>\n",
       "  </thead>\n",
       "  <tbody>\n",
       "    <tr>\n",
       "      <th>0</th>\n",
       "      <td>20012.0</td>\n",
       "      <td>2018-07-25 10:16:13.770</td>\n",
       "      <td>370.975903</td>\n",
       "      <td>1148.085213</td>\n",
       "      <td>None</td>\n",
       "      <td>None</td>\n",
       "    </tr>\n",
       "    <tr>\n",
       "      <th>1</th>\n",
       "      <td>20011.0</td>\n",
       "      <td>2018-07-25 10:15:19.030</td>\n",
       "      <td>370.468548</td>\n",
       "      <td>1146.944071</td>\n",
       "      <td>None</td>\n",
       "      <td>None</td>\n",
       "    </tr>\n",
       "    <tr>\n",
       "      <th>2</th>\n",
       "      <td>20010.0</td>\n",
       "      <td>2018-07-25 10:14:24.330</td>\n",
       "      <td>369.282839</td>\n",
       "      <td>1144.782213</td>\n",
       "      <td>None</td>\n",
       "      <td>None</td>\n",
       "    </tr>\n",
       "    <tr>\n",
       "      <th>3</th>\n",
       "      <td>20009.0</td>\n",
       "      <td>2018-07-25 10:13:29.690</td>\n",
       "      <td>371.281097</td>\n",
       "      <td>1148.417574</td>\n",
       "      <td>None</td>\n",
       "      <td>None</td>\n",
       "    </tr>\n",
       "    <tr>\n",
       "      <th>4</th>\n",
       "      <td>20008.0</td>\n",
       "      <td>2018-07-25 10:12:34.960</td>\n",
       "      <td>370.567161</td>\n",
       "      <td>1147.009916</td>\n",
       "      <td>None</td>\n",
       "      <td>None</td>\n",
       "    </tr>\n",
       "    <tr>\n",
       "      <th>5</th>\n",
       "      <td>20007.0</td>\n",
       "      <td>2018-07-25 10:11:40.230</td>\n",
       "      <td>369.773290</td>\n",
       "      <td>1145.685871</td>\n",
       "      <td>None</td>\n",
       "      <td>None</td>\n",
       "    </tr>\n",
       "    <tr>\n",
       "      <th>6</th>\n",
       "      <td>20006.0</td>\n",
       "      <td>2018-07-25 10:10:45.520</td>\n",
       "      <td>368.820194</td>\n",
       "      <td>1143.876348</td>\n",
       "      <td>None</td>\n",
       "      <td>None</td>\n",
       "    </tr>\n",
       "    <tr>\n",
       "      <th>7</th>\n",
       "      <td>20005.0</td>\n",
       "      <td>2018-07-25 10:09:50.810</td>\n",
       "      <td>369.995000</td>\n",
       "      <td>1145.987342</td>\n",
       "      <td>None</td>\n",
       "      <td>None</td>\n",
       "    </tr>\n",
       "    <tr>\n",
       "      <th>8</th>\n",
       "      <td>20004.0</td>\n",
       "      <td>2018-07-25 10:08:56.170</td>\n",
       "      <td>369.024323</td>\n",
       "      <td>1144.072897</td>\n",
       "      <td>None</td>\n",
       "      <td>None</td>\n",
       "    </tr>\n",
       "    <tr>\n",
       "      <th>9</th>\n",
       "      <td>20003.0</td>\n",
       "      <td>2018-07-25 10:08:00.570</td>\n",
       "      <td>369.257129</td>\n",
       "      <td>1144.648200</td>\n",
       "      <td>None</td>\n",
       "      <td>None</td>\n",
       "    </tr>\n",
       "  </tbody>\n",
       "</table>\n",
       "</div>"
      ],
      "text/plain": [
       "    Log_Id               Date_Time  Temperature     Humidity Image_Blob  \\\n",
       "0  20012.0 2018-07-25 10:16:13.770   370.975903  1148.085213       None   \n",
       "1  20011.0 2018-07-25 10:15:19.030   370.468548  1146.944071       None   \n",
       "2  20010.0 2018-07-25 10:14:24.330   369.282839  1144.782213       None   \n",
       "3  20009.0 2018-07-25 10:13:29.690   371.281097  1148.417574       None   \n",
       "4  20008.0 2018-07-25 10:12:34.960   370.567161  1147.009916       None   \n",
       "5  20007.0 2018-07-25 10:11:40.230   369.773290  1145.685871       None   \n",
       "6  20006.0 2018-07-25 10:10:45.520   368.820194  1143.876348       None   \n",
       "7  20005.0 2018-07-25 10:09:50.810   369.995000  1145.987342       None   \n",
       "8  20004.0 2018-07-25 10:08:56.170   369.024323  1144.072897       None   \n",
       "9  20003.0 2018-07-25 10:08:00.570   369.257129  1144.648200       None   \n",
       "\n",
       "  Cloud_Type  \n",
       "0       None  \n",
       "1       None  \n",
       "2       None  \n",
       "3       None  \n",
       "4       None  \n",
       "5       None  \n",
       "6       None  \n",
       "7       None  \n",
       "8       None  \n",
       "9       None  "
      ]
     },
     "execution_count": 2,
     "metadata": {},
     "output_type": "execute_result"
    }
   ],
   "source": [
    "#Add a query to a dataframe\n",
    "query =\"SELECT * FROM tdata_db_2.Weather_Log ORDER BY Log_Id DESC\"\n",
    "df = pd.read_sql(query,session)\n",
    "\n",
    "#View data\n",
    "df.head(10)"
   ]
  },
  {
   "cell_type": "code",
   "execution_count": 4,
   "metadata": {
    "scrolled": true
   },
   "outputs": [
    {
     "data": {
      "image/png": "[encoded data removed]",
      "text/plain": [
       "<Figure size 720x576 with 1 Axes>"
      ]
     },
     "metadata": {},
     "output_type": "display_data"
    }
   ],
   "source": [
    "%matplotlib inline\n",
    "from matplotlib import pyplot as plt\n",
    "\n",
    "# Set up the graph\n",
    "\n",
    "plt.figure(figsize = (10,8))\n",
    "\n",
    "# Plot the function\n",
    "plt.plot(df.Date_Time,df.Temperature, color='lightgrey', marker='o', markeredgecolor='green', markerfacecolor='green')\n",
    "\n",
    "plt.xlabel('Time')\n",
    "plt.ylabel('Average Temperature')\n",
    "plt.grid()\n",
    "#fig = plt.figure()\n",
    "#fig.set_size_inches(18.5, 10.5)\n",
    "\n",
    "plt.show()"
   ]
  },
  {
   "cell_type": "markdown",
   "metadata": {},
   "source": [
    "# Appendix A: Data structures"
   ]
  },
  {
   "cell_type": "markdown",
   "metadata": {},
   "source": [
    "## Create the Weather_Log table"
   ]
  },
  {
   "cell_type": "markdown",
   "metadata": {},
   "source": [
    "``` mysql\n",
    "--DROP TABLE\n",
    "DROP TABLE tddb_00.Weather_Log;\n",
    "\n",
    "--CREATE TABLE\n",
    "CREATE TABLE tddb_00.Weather_Log\n",
    "    (Log_Id INT NOT NULL GENERATED ALWAYS AS IDENTITY\n",
    "           (START WITH 1 \n",
    "            INCREMENT BY 1 \n",
    "            MINVALUE 1 \n",
    "            MAXVALUE 2147483647 \n",
    "            NO CYCLE),\n",
    "     Date_Time TIMESTAMP,\n",
    "     Temperature FLOAT,\n",
    "     Humidity FLOAT,\n",
    "     Image_Blob VARCHAR(100),\n",
    "     Cloud_Type VARCHAR(50)\n",
    "    )\n",
    "\tUNIQUE PRIMARY INDEX(Log_Id);\n",
    "```"
   ]
  },
  {
   "cell_type": "markdown",
   "metadata": {},
   "source": [
    "## Test the Table by inserting a row of data"
   ]
  },
  {
   "cell_type": "markdown",
   "metadata": {},
   "source": [
    "``` mysql\n",
    "--INSERT ROW DIRECTLY\n",
    " INSERT INTO tddb_00.Weather_Log\n",
    " (\n",
    " \tDate_Time\n",
    " \t, Temperature\n",
    " \t, Humidity\n",
    " \t, Image_Blob\n",
    " \t, Cloud_Type\n",
    " )\n",
    " VALUES\n",
    " (\n",
    " \tCURRENT_TIMESTAMP AT TIME ZONE 'Africa Egypt'\n",
    " \t, 0\n",
    " \t, 0\n",
    " \t, NULL\n",
    " \t, NULL\n",
    " );\t\n",
    "```"
   ]
  },
  {
   "cell_type": "markdown",
   "metadata": {},
   "source": [
    "## Create a Stored Procedure"
   ]
  },
  {
   "cell_type": "markdown",
   "metadata": {},
   "source": [
    "### If no procedure has ever been created by the current user: Grant access to created procedures"
   ]
  },
  {
   "cell_type": "markdown",
   "metadata": {},
   "source": [
    "``` mysql\n",
    "--GRANT PROCEDURE PERMISSIONS\n",
    "GRANT CREATE PROCEDURE ON \"tddb_00\" TO \"DBC\" WITH GRANT OPTION;\n",
    "```"
   ]
  },
  {
   "cell_type": "markdown",
   "metadata": {},
   "source": [
    "``` mysql\n",
    "--CREATE PROCEDURE TO LOG DATA\n",
    "CREATE PROCEDURE tddb_00.Weather_Log_Create(                       \n",
    "                        IN iTemperature FLOAT,\n",
    "                        IN iHumidity FLOAT\n",
    "                        )\n",
    "BEGIN\n",
    "\t\n",
    "\t INSERT INTO tddb_00.Weather_Log\n",
    "\t (\n",
    "\t \tDate_Time\n",
    "\t \t, Temperature\n",
    "\t \t, Humidity\n",
    "\t \t, Image_Blob\n",
    "\t \t, Cloud_Type\n",
    "\t )\n",
    "\t VALUES\n",
    "\t (\n",
    "\t \tCURRENT_TIMESTAMP AT TIME ZONE 'Africa Egypt'\n",
    "\t \t, iTemperature\n",
    "\t \t, iHumidity\n",
    "\t \t, NULL\n",
    "\t \t, NULL\n",
    "\t );\n",
    "\t \n",
    "END; \n",
    "```"
   ]
  },
  {
   "cell_type": "markdown",
   "metadata": {},
   "source": [
    "## Test the SQL"
   ]
  },
  {
   "cell_type": "markdown",
   "metadata": {},
   "source": [
    "``` mysql\n",
    "--CALL PROCEDURE\n",
    "CALL tddb_00.Weather_Log_Create(1, 1);\n",
    "\n",
    "--SELECT FROM TABLE\n",
    "SELECT * \n",
    "FROM tddb_00.Weather_Log\n",
    "ORDER BY Log_Id DESC;\n",
    "```"
   ]
  },
  {
   "cell_type": "code",
   "execution_count": null,
   "metadata": {},
   "outputs": [],
   "source": []
  }
 ],
 "metadata": {
  "kernelspec": {
   "display_name": "Python 3",
   "language": "python",
   "name": "python3"
  },
  "language_info": {
   "codemirror_mode": {
    "name": "ipython",
    "version": 3
   },
   "file_extension": ".py",
   "mimetype": "text/x-python",
   "name": "python",
   "nbconvert_exporter": "python",
   "pygments_lexer": "ipython3",
   "version": "3.5.2"
  }
 },
 "nbformat": 4,
 "nbformat_minor": 2
}
